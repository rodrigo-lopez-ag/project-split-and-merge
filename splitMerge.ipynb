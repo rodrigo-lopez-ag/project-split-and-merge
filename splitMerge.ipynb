{
 "cells": [
  {
   "cell_type": "code",
   "execution_count": 30,
   "metadata": {},
   "outputs": [],
   "source": [
    "import numpy as np\n",
    "import cv2\n",
    "import matplotlib.pyplot as plt\n",
    "from operator import add\n",
    "from functools import reduce\n",
    "from PIL import Image"
   ]
  },
  {
   "cell_type": "code",
   "execution_count": 52,
   "metadata": {},
   "outputs": [],
   "source": [
    "image = cv2.imread('square_circuit.jpg')\n",
    "image = cv2.cvtColor(image, cv2.COLOR_BGR2GRAY)"
   ]
  },
  {
   "cell_type": "code",
   "execution_count": 53,
   "metadata": {},
   "outputs": [
    {
     "data": {
      "text/plain": [
       "(2560, 2560)"
      ]
     },
     "execution_count": 53,
     "metadata": {},
     "output_type": "execute_result"
    }
   ],
   "source": [
    "# plt.imshow(image, cmap='gray')\n",
    "image.shape"
   ]
  },
  {
   "cell_type": "code",
   "execution_count": 116,
   "metadata": {},
   "outputs": [],
   "source": [
    "def intensity_criteria(region):\n",
    "    \"\"\"\n",
    "    Returns True if the standard deviation of the intensity values\n",
    "    within the region is below a threshold, indicating that the\n",
    "    region is homogeneous.\n",
    "    \"\"\"\n",
    "    intensity_std = np.std(region)\n",
    "    threshold = 10  # Adjust this threshold to control the level of segmentation\n",
    "    return intensity_std < threshold\n",
    "\n",
    "def checkEquals(myList):\n",
    "    \"\"\"\n",
    "    Returns True if the image can be divided further\n",
    "    \"\"\"\n",
    "    first = myList[0]\n",
    "    return all((x == first).all() for x in myList)\n",
    "\n",
    "def is_divisible(region):\n",
    "    if region.shape == (1,0) or region.shape == (0,1):\n",
    "        return False\n",
    "    return region.shape != (1,1)\n",
    "\n",
    "def split4(region):\n",
    "    \"\"\"\n",
    "    Splits the given region in 4 equal parts\n",
    "    \"\"\"\n",
    "    half_split = np.array_split(region, 2)\n",
    "    res = map(lambda x: np.array_split(x, 2, axis=1), half_split)\n",
    "    return reduce(add, res)"
   ]
  },
  {
   "cell_type": "code",
   "execution_count": 117,
   "metadata": {},
   "outputs": [
    {
     "data": {
      "text/plain": [
       "False"
      ]
     },
     "execution_count": 117,
     "metadata": {},
     "output_type": "execute_result"
    }
   ],
   "source": [
    "intensity_criteria(image)"
   ]
  },
  {
   "cell_type": "code",
   "execution_count": 121,
   "metadata": {},
   "outputs": [
    {
     "name": "stdout",
     "output_type": "stream",
     "text": [
      "True\n",
      "[array([[1, 1, 4],\n",
      "       [1, 1, 4],\n",
      "       [1, 1, 4]]), array([[5, 6],\n",
      "       [5, 6],\n",
      "       [5, 6]]), array([[1, 1, 4],\n",
      "       [1, 1, 4]]), array([[5, 6],\n",
      "       [5, 6]])]\n",
      "[array([[1, 1],\n",
      "       [1, 1]]), array([[4],\n",
      "       [4]]), array([[1, 1]]), array([[4]])]\n",
      "True\n"
     ]
    }
   ],
   "source": [
    "arr = np.array([[1,1,4,5,6],\n",
    "                [1,1,4,5,6],\n",
    "                [1,1,4,5,6],\n",
    "                [1,1,4,5,6],\n",
    "                [1,1,4,5,6]])\n",
    "split_arr = split4(arr)\n",
    "a,b,c,d = split_arr\n",
    "\n",
    "split_arr2 = split4(a)\n",
    "a2,b2,c2,d2 = split_arr2\n",
    "\n",
    "print(is_divisible(c2))\n",
    "print(split_arr)\n",
    "print(split_arr2)\n",
    "# print(split4(c2))\n",
    "print(intensity_criteria(arr))"
   ]
  },
  {
   "cell_type": "code",
   "execution_count": 157,
   "metadata": {},
   "outputs": [],
   "source": [
    "class QuadTree:\n",
    "    def __init__(self, image):\n",
    "        self.children = [None, None, None, None]\n",
    "        self.image_matrix = image\n",
    "        self.is_homogeneous = intensity_criteria(image)\n",
    "        self.region_area = (image.shape[0], image.shape[1])\n",
    "        self.is_leaf = True # TBD\n",
    "        self.split(image)\n",
    "    \n",
    "    def merge(self):\n",
    "        pass\n",
    "\n",
    "    def split(self, image):\n",
    "        if is_divisible(image) and self.is_homogeneous == False:\n",
    "        # if not checkEquals(image) and self.is_homogeneous == False:\n",
    "            north_west, north_east, south_west, south_east = split4(image)\n",
    "            # print(north_west.shape)\n",
    "            self.children[0] = QuadTree(north_west)\n",
    "            self.children[1] = QuadTree(north_east)\n",
    "            self.children[2] = QuadTree(south_west)\n",
    "            self.children[3] = QuadTree(south_east)"
   ]
  },
  {
   "cell_type": "code",
   "execution_count": 158,
   "metadata": {},
   "outputs": [
    {
     "name": "stderr",
     "output_type": "stream",
     "text": [
      "c:\\Users\\roroa\\anaconda3\\envs\\py38\\lib\\site-packages\\numpy\\core\\_methods.py:265: RuntimeWarning: Degrees of freedom <= 0 for slice\n",
      "  ret = _var(a, axis=axis, dtype=dtype, out=out, ddof=ddof,\n",
      "c:\\Users\\roroa\\anaconda3\\envs\\py38\\lib\\site-packages\\numpy\\core\\_methods.py:223: RuntimeWarning: invalid value encountered in divide\n",
      "  arrmean = um.true_divide(arrmean, div, out=arrmean, casting='unsafe',\n",
      "c:\\Users\\roroa\\anaconda3\\envs\\py38\\lib\\site-packages\\numpy\\core\\_methods.py:257: RuntimeWarning: invalid value encountered in double_scalars\n",
      "  ret = ret.dtype.type(ret / rcount)\n"
     ]
    }
   ],
   "source": [
    "quadtree = QuadTree(image)"
   ]
  },
  {
   "cell_type": "code",
   "execution_count": 161,
   "metadata": {},
   "outputs": [
    {
     "data": {
      "text/plain": [
       "array([[167, 167, 167, 167, 167, 167, 167, 168, 170, 171, 172, 173, 173,\n",
       "        174, 175, 175, 175, 175, 174, 171],\n",
       "       [167, 167, 167, 167, 166, 167, 165, 167, 169, 170, 171, 172, 172,\n",
       "        173, 173, 173, 174, 174, 173, 169],\n",
       "       [165, 165, 165, 165, 165, 164, 164, 165, 166, 167, 168, 170, 170,\n",
       "        170, 171, 171, 171, 171, 170, 169],\n",
       "       [164, 164, 164, 164, 163, 163, 162, 164, 165, 166, 167, 168, 169,\n",
       "        169, 169, 169, 169, 169, 169, 168],\n",
       "       [164, 164, 164, 163, 163, 163, 163, 164, 166, 166, 168, 168, 168,\n",
       "        170, 170, 171, 171, 170, 169, 169],\n",
       "       [164, 164, 163, 163, 163, 163, 164, 164, 165, 167, 168, 169, 170,\n",
       "        171, 172, 172, 172, 171, 170, 169],\n",
       "       [163, 163, 163, 162, 163, 163, 164, 164, 166, 168, 169, 170, 171,\n",
       "        172, 173, 173, 174, 173, 172, 172],\n",
       "       [162, 162, 161, 162, 164, 163, 164, 165, 167, 168, 170, 172, 173,\n",
       "        174, 174, 175, 175, 175, 175, 174],\n",
       "       [160, 160, 161, 161, 162, 162, 163, 164, 164, 167, 169, 171, 171,\n",
       "        172, 173, 173, 174, 174, 174, 173],\n",
       "       [159, 159, 160, 160, 161, 161, 162, 163, 165, 166, 167, 168, 168,\n",
       "        170, 171, 172, 173, 173, 173, 173],\n",
       "       [160, 161, 161, 162, 162, 162, 163, 164, 165, 166, 167, 166, 168,\n",
       "        169, 170, 170, 170, 171, 172, 172],\n",
       "       [162, 162, 162, 163, 163, 164, 164, 165, 165, 167, 166, 166, 167,\n",
       "        168, 168, 168, 169, 170, 171, 171],\n",
       "       [163, 163, 164, 164, 165, 165, 166, 166, 167, 167, 167, 167, 167,\n",
       "        168, 169, 169, 169, 170, 171, 171],\n",
       "       [165, 165, 165, 165, 166, 167, 168, 168, 169, 169, 169, 170, 169,\n",
       "        171, 170, 170, 170, 171, 171, 172],\n",
       "       [164, 164, 165, 166, 166, 168, 168, 169, 169, 169, 170, 170, 171,\n",
       "        171, 171, 172, 172, 172, 172, 173],\n",
       "       [163, 163, 164, 166, 166, 167, 167, 170, 170, 171, 171, 171, 172,\n",
       "        172, 173, 173, 173, 174, 174, 175],\n",
       "       [163, 163, 164, 164, 166, 167, 169, 169, 171, 171, 171, 171, 172,\n",
       "        173, 174, 173, 174, 174, 175, 176],\n",
       "       [166, 166, 164, 164, 166, 167, 168, 170, 171, 172, 171, 171, 172,\n",
       "        175, 175, 173, 174, 174, 175, 176],\n",
       "       [167, 166, 165, 164, 166, 167, 169, 170, 171, 173, 171, 169, 172,\n",
       "        175, 174, 172, 171, 175, 176, 177],\n",
       "       [166, 166, 165, 165, 168, 169, 168, 169, 170, 170, 169, 168, 170,\n",
       "        174, 174, 169, 169, 174, 178, 179]], dtype=uint8)"
      ]
     },
     "execution_count": 161,
     "metadata": {},
     "output_type": "execute_result"
    }
   ],
   "source": [
    "quadtree.children[0].children[0].children[0].children[0].children[0].children[0].children[0].image_matrix"
   ]
  }
 ],
 "metadata": {
  "kernelspec": {
   "display_name": "py38",
   "language": "python",
   "name": "python3"
  },
  "language_info": {
   "codemirror_mode": {
    "name": "ipython",
    "version": 3
   },
   "file_extension": ".py",
   "mimetype": "text/x-python",
   "name": "python",
   "nbconvert_exporter": "python",
   "pygments_lexer": "ipython3",
   "version": "3.8.13"
  },
  "orig_nbformat": 4
 },
 "nbformat": 4,
 "nbformat_minor": 2
}
